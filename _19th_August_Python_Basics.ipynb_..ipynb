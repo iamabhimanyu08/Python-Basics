{
 "cells": [
  {
   "cell_type": "code",
   "execution_count": 1,
   "id": "34ee798c-a738-47df-9471-af017be98503",
   "metadata": {},
   "outputs": [
    {
     "name": "stdin",
     "output_type": "stream",
     "text": [
      "Enter the value of x:  456\n",
      "Enter the value of y:  345\n"
     ]
    },
    {
     "name": "stdout",
     "output_type": "stream",
     "text": [
      "Swapped values - x: 345\n",
      "Swapped values - y: 456\n"
     ]
    }
   ],
   "source": [
    "## 1. Declare two variables, `x` and `y`, and assign them integer values. Swap the\n",
    "## values of these variables without using any temporary variable.\n",
    "\n",
    "x=int(input(\"Enter the value of x: \"))\n",
    "y=int(input(\"Enter the value of y: \"))\n",
    "x, y = y, x\n",
    "\n",
    "print(\"Swapped values - x:\", x)\n",
    "print(\"Swapped values - y:\", y)"
   ]
  },
  {
   "cell_type": "code",
   "execution_count": 2,
   "id": "3e104b89-fb9c-4683-9a4f-629c36185d53",
   "metadata": {},
   "outputs": [
    {
     "name": "stdin",
     "output_type": "stream",
     "text": [
      "Enter the length :  4566\n",
      "Enter the width :  78966\n"
     ]
    },
    {
     "name": "stdout",
     "output_type": "stream",
     "text": [
      "Area of rectange is: 360558756\n"
     ]
    }
   ],
   "source": [
    "### 2. Create a program that calculates the area of a rectangle. Take the length and\n",
    "### width as inputs from the user and store them in variables. Calculate and\n",
    "### display the area.\n",
    "\n",
    "l=int(input(\"Enter the length : \" ))\n",
    "w=int(input(\"Enter the width : \" ))\n",
    "Area=l*w\n",
    "print(\"Area of rectange is:\" , Area )"
   ]
  },
  {
   "cell_type": "code",
   "execution_count": 3,
   "id": "8ebad355-e6b8-44bb-bc1f-d610c2f2e808",
   "metadata": {},
   "outputs": [
    {
     "name": "stdin",
     "output_type": "stream",
     "text": [
      "Please enter the temperature in celcius:   28\n"
     ]
    },
    {
     "name": "stdout",
     "output_type": "stream",
     "text": [
      "Temperature in Fahrenheit: 82.4\n"
     ]
    }
   ],
   "source": [
    "### 3. Write a Python program that converts temperatures from Celsius to\n",
    "### Fahrenheit. Take the temperature in Celsius as input, store it in a variable,\n",
    "###convert it to Fahrenheit, and display the result.\n",
    "\n",
    "x=float(input(\"Please enter the temperature in celcius:  \"))\n",
    "y= x*1.8+32\n",
    "print(\"Temperature in Fahrenheit:\",y)"
   ]
  },
  {
   "cell_type": "code",
   "execution_count": null,
   "id": "8a824dbf-c935-43b6-a435-cae5e05e1fea",
   "metadata": {},
   "outputs": [],
   "source": []
  },
  {
   "cell_type": "markdown",
   "id": "8e25541d-ace6-48fa-965e-ef316f0f3bd4",
   "metadata": {},
   "source": [
    "#TOPIC: String Based Questions"
   ]
  },
  {
   "cell_type": "code",
   "execution_count": 4,
   "id": "c7476019-f93f-49da-9863-be97834378ad",
   "metadata": {},
   "outputs": [
    {
     "name": "stdin",
     "output_type": "stream",
     "text": [
      "Please enter any statement:   Hello, My Name is Abhimanyu Sharma\n"
     ]
    },
    {
     "name": "stdout",
     "output_type": "stream",
     "text": [
      "The Length of the string is: 34\n"
     ]
    }
   ],
   "source": [
    "#1. Write a Python program that takes a string as input and prints the length of\n",
    "#the string.\n",
    "\n",
    "x=input(\"Please enter any statement:  \" )\n",
    "print(\"The Length of the string is:\" , len(x))"
   ]
  },
  {
   "cell_type": "code",
   "execution_count": 5,
   "id": "8870f7fa-0171-49bf-8adc-2dc0d38b64c7",
   "metadata": {},
   "outputs": [
    {
     "name": "stdin",
     "output_type": "stream",
     "text": [
      "Enter a sentence:  Today's weather is very humid\n"
     ]
    },
    {
     "name": "stdout",
     "output_type": "stream",
     "text": [
      "Number of vowels: 9\n"
     ]
    }
   ],
   "source": [
    "#2. Create a program that takes a sentence from the user and counts the number\n",
    "#of vowels (a, e, i, o, u) in the string.\n",
    "\n",
    "def count_vowels(sentence):\n",
    "    vowels=\"aeiouAEIOU\"\n",
    "    vowels_count= 0\n",
    "    \n",
    "    for char in sentence:\n",
    "        if char in vowels:\n",
    "            vowels_count += 1\n",
    "    return vowels_count\n",
    "\n",
    "\n",
    "\n",
    "user_sentence = input(\"Enter a sentence: \")\n",
    "num_vowels = count_vowels(user_sentence)\n",
    "\n",
    "print(\"Number of vowels:\", num_vowels)"
   ]
  },
  {
   "cell_type": "code",
   "execution_count": 6,
   "id": "1b2bc66d-7455-49a2-9581-a6785b5c82d4",
   "metadata": {},
   "outputs": [
    {
     "name": "stdin",
     "output_type": "stream",
     "text": [
      "Enter a string:  India become the first country to land near the south pole of the moon.\n"
     ]
    },
    {
     "name": "stdout",
     "output_type": "stream",
     "text": [
      "Reversed string: .noom eht fo elop htuos eht raen dnal ot yrtnuoc tsrif eht emoceb aidnI\n"
     ]
    }
   ],
   "source": [
    "##Given a string, reverse the order of characters using string slicing and print\n",
    "##the reversed string.\n",
    "\n",
    "def reverse_string(input_string):\n",
    "    reversed_string = input_string[::-1]\n",
    "    return reversed_string\n",
    "\n",
    "user_input = input(\"Enter a string: \")\n",
    "reversed_result = reverse_string(user_input)\n",
    "\n",
    "print(\"Reversed string:\", reversed_result)"
   ]
  },
  {
   "cell_type": "code",
   "execution_count": 7,
   "id": "dcd44312-5342-4b20-9457-ccea97b77cc6",
   "metadata": {},
   "outputs": [
    {
     "name": "stdin",
     "output_type": "stream",
     "text": [
      "Enter a string:  Civic\n"
     ]
    },
    {
     "name": "stdout",
     "output_type": "stream",
     "text": [
      "The input string is a palindrome.\n"
     ]
    }
   ],
   "source": [
    "##5. Create a program that takes a string as input and removes all the spaces from\n",
    "##it. Print the modified string without spaces.\n",
    "\n",
    "def is_palindrome(input_string):\n",
    "    cleaned_string = input_string.lower().replace(\" \", \"\")\n",
    "    reversed_string = cleaned_string[::-1]\n",
    "    return cleaned_string == reversed_string\n",
    "\n",
    "user_input = input(\"Enter a string: \")\n",
    "if is_palindrome(user_input):\n",
    "    print(\"The input string is a palindrome.\")\n",
    "else:\n",
    "    print(\"The input string is not a palindrome.\")\n",
    "\n"
   ]
  },
  {
   "cell_type": "code",
   "execution_count": 8,
   "id": "c76a0a15-b09e-41f0-b7a7-64bfd9188d29",
   "metadata": {},
   "outputs": [
    {
     "name": "stdin",
     "output_type": "stream",
     "text": [
      "Enter a string: the input string is a palindrome\n"
     ]
    },
    {
     "name": "stdout",
     "output_type": "stream",
     "text": [
      "Modified string without spaces: theinputstringisapalindrome\n"
     ]
    }
   ],
   "source": [
    "##5. Create a program that takes a string as input and removes all the spaces from\n",
    "##it. Print the modified string without spaces.\n",
    "def is_stripped(input_string):\n",
    "    cleaned_string = input_string.replace(\" \", \"\")\n",
    "    return cleaned_string\n",
    "user_inp=input(\"Enter a string:\" )\n",
    "result_withoutspaces=is_stripped(user_inp)\n",
    "print(\"Modified string without spaces:\", result_withoutspaces)\n",
    "\n"
   ]
  }
 ],
 "metadata": {
  "kernelspec": {
   "display_name": "Python 3 (ipykernel)",
   "language": "python",
   "name": "python3"
  },
  "language_info": {
   "codemirror_mode": {
    "name": "ipython",
    "version": 3
   },
   "file_extension": ".py",
   "mimetype": "text/x-python",
   "name": "python",
   "nbconvert_exporter": "python",
   "pygments_lexer": "ipython3",
   "version": "3.10.8"
  }
 },
 "nbformat": 4,
 "nbformat_minor": 5
}
